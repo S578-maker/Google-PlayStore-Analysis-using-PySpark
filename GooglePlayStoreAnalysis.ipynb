{
 "cells": [
  {
   "cell_type": "code",
   "execution_count": 2,
   "id": "b2e73791-a57f-4aa3-b255-5fa60acdef0a",
   "metadata": {},
   "outputs": [],
   "source": [
    "#import libraries\n",
    "import pyspark\n",
    "from pyspark.sql import SparkSession\n",
    "from pyspark.sql.types import StructType,StructField,StringType,IntegerType\n",
    "from pyspark.sql.functions import *"
   ]
  },
  {
   "cell_type": "markdown",
   "id": "e004e2e9-9f4a-497d-8afa-cec45d4906a2",
   "metadata": {},
   "source": [
    "# Load Files"
   ]
  },
  {
   "cell_type": "code",
   "execution_count": 3,
   "id": "f2504d90-27a8-44b4-a820-34cbb492e501",
   "metadata": {},
   "outputs": [],
   "source": [
    "\n",
    "spark = SparkSession.builder \\\n",
    "    .master(\"local[*]\") \\\n",
    "    .appName(\"MyApp\") \\\n",
    "    .getOrCreate()\n"
   ]
  },
  {
   "cell_type": "markdown",
   "id": "58970eae-2e30-473e-baf4-cc8dad74172a",
   "metadata": {},
   "source": [
    "# create a dataframe"
   ]
  },
  {
   "cell_type": "code",
   "execution_count": null,
   "id": "44226ab1-cfed-4e98-a4d9-0f087015ee2e",
   "metadata": {},
   "outputs": [],
   "source": [
    "\n",
    "file_path = r\"D:\\Data Analysis\\Python\\stat\\Project\\googleplaystore.csv\"  \n",
    "df=spark.read.csv(file_path,header=True,inferSchema=True)\n",
    "df.show()\n",
    "#df=spark.read.load(file_path,format='csv',sep=',',header=True,escape='\"')"
   ]
  },
  {
   "cell_type": "markdown",
   "id": "1857c992-0aec-47f2-8eac-447eec4e7fdf",
   "metadata": {},
   "source": [
    "# Count"
   ]
  },
  {
   "cell_type": "code",
   "execution_count": 6,
   "id": "d2a04637-5a2a-4ad8-825b-85c7f3133431",
   "metadata": {},
   "outputs": [
    {
     "data": {
      "text/plain": [
       "10841"
      ]
     },
     "execution_count": 6,
     "metadata": {},
     "output_type": "execute_result"
    }
   ],
   "source": [
    "df.count()"
   ]
  },
  {
   "cell_type": "markdown",
   "id": "7e53e2ed-01c1-4e51-90b6-6721867ac9e6",
   "metadata": {},
   "source": [
    "# display first row"
   ]
  },
  {
   "cell_type": "code",
   "execution_count": 7,
   "id": "8f535d39-62fc-40ab-a57f-02ee35dcd7f1",
   "metadata": {},
   "outputs": [
    {
     "name": "stdout",
     "output_type": "stream",
     "text": [
      "+--------------------+--------------+------+-------+----+--------+----+-----+--------------+------------+---------------+-----------+------------+\n",
      "|                 App|      Category|Rating|Reviews|Size|Installs|Type|Price|Content Rating|      Genres|   Last Updated|Current Ver| Android Ver|\n",
      "+--------------------+--------------+------+-------+----+--------+----+-----+--------------+------------+---------------+-----------+------------+\n",
      "|Photo Editor & Ca...|ART_AND_DESIGN|   4.1|    159| 19M| 10,000+|Free|    0|      Everyone|Art & Design|January 7, 2018|      1.0.0|4.0.3 and up|\n",
      "+--------------------+--------------+------+-------+----+--------+----+-----+--------------+------------+---------------+-----------+------------+\n",
      "only showing top 1 row\n",
      "\n"
     ]
    }
   ],
   "source": [
    "df.show(1)"
   ]
  },
  {
   "cell_type": "markdown",
   "id": "bfe13d5c-246e-4e09-8bda-7ed9b9683bf7",
   "metadata": {},
   "source": [
    "# check Schema"
   ]
  },
  {
   "cell_type": "code",
   "execution_count": 8,
   "id": "77e0e143-c054-4935-95e3-e70b3c08eaf8",
   "metadata": {},
   "outputs": [
    {
     "name": "stdout",
     "output_type": "stream",
     "text": [
      "root\n",
      " |-- App: string (nullable = true)\n",
      " |-- Category: string (nullable = true)\n",
      " |-- Rating: string (nullable = true)\n",
      " |-- Reviews: string (nullable = true)\n",
      " |-- Size: string (nullable = true)\n",
      " |-- Installs: string (nullable = true)\n",
      " |-- Type: string (nullable = true)\n",
      " |-- Price: string (nullable = true)\n",
      " |-- Content Rating: string (nullable = true)\n",
      " |-- Genres: string (nullable = true)\n",
      " |-- Last Updated: string (nullable = true)\n",
      " |-- Current Ver: string (nullable = true)\n",
      " |-- Android Ver: string (nullable = true)\n",
      "\n"
     ]
    }
   ],
   "source": [
    "\n",
    "df.printSchema()"
   ]
  },
  {
   "cell_type": "markdown",
   "id": "8255e41b-754f-45e0-afbc-00c3224765eb",
   "metadata": {},
   "source": [
    "# Data Cleaning\n"
   ]
  },
  {
   "cell_type": "markdown",
   "id": "634b54ed-3ec9-4a24-8e70-0821d1b9c046",
   "metadata": {},
   "source": [
    "Drop the columns which are not important"
   ]
  },
  {
   "cell_type": "code",
   "execution_count": 9,
   "id": "6d19beb9-d619-4dfd-ac99-24e6a7806812",
   "metadata": {},
   "outputs": [],
   "source": [
    "df=df.drop(\"size\",\"Content Rating\",\"Last Updated\",\"Android Ver\",\"Current Ver\")"
   ]
  },
  {
   "cell_type": "code",
   "execution_count": 10,
   "id": "3d940e31-2f82-479a-82a4-055c8e92ed5b",
   "metadata": {},
   "outputs": [
    {
     "name": "stdout",
     "output_type": "stream",
     "text": [
      "+--------------------+--------------+------+-------+--------+----+-----+--------------------+-----------+------------+\n",
      "|                 App|      Category|Rating|Reviews|Installs|Type|Price|              Genres|Current Ver| Android Ver|\n",
      "+--------------------+--------------+------+-------+--------+----+-----+--------------------+-----------+------------+\n",
      "|Photo Editor & Ca...|ART_AND_DESIGN|   4.1|    159| 10,000+|Free|    0|        Art & Design|      1.0.0|4.0.3 and up|\n",
      "| Coloring book moana|ART_AND_DESIGN|   3.9|    967|500,000+|Free|    0|Art & Design;Pret...|      2.0.0|4.0.3 and up|\n",
      "+--------------------+--------------+------+-------+--------+----+-----+--------------------+-----------+------------+\n",
      "only showing top 2 rows\n",
      "\n"
     ]
    }
   ],
   "source": [
    "df.show(2)"
   ]
  },
  {
   "cell_type": "code",
   "execution_count": 11,
   "id": "b92e901f-3722-48a1-8ce5-5d6f29c42208",
   "metadata": {},
   "outputs": [],
   "source": [
    "df=df.drop(\"Android Ver\")"
   ]
  },
  {
   "cell_type": "code",
   "execution_count": 12,
   "id": "60305a24-05a2-46e7-9e79-a2d9062ff8ba",
   "metadata": {},
   "outputs": [
    {
     "name": "stdout",
     "output_type": "stream",
     "text": [
      "+--------------------+--------------+------+-------+--------+----+-----+--------------------+-----------+\n",
      "|                 App|      Category|Rating|Reviews|Installs|Type|Price|              Genres|Current Ver|\n",
      "+--------------------+--------------+------+-------+--------+----+-----+--------------------+-----------+\n",
      "|Photo Editor & Ca...|ART_AND_DESIGN|   4.1|    159| 10,000+|Free|    0|        Art & Design|      1.0.0|\n",
      "| Coloring book moana|ART_AND_DESIGN|   3.9|    967|500,000+|Free|    0|Art & Design;Pret...|      2.0.0|\n",
      "+--------------------+--------------+------+-------+--------+----+-----+--------------------+-----------+\n",
      "only showing top 2 rows\n",
      "\n"
     ]
    }
   ],
   "source": [
    "df.show(2)"
   ]
  },
  {
   "cell_type": "code",
   "execution_count": 13,
   "id": "26064ec9-6693-4fb1-966f-b7a5aa301fc6",
   "metadata": {},
   "outputs": [],
   "source": [
    "df=df.drop(\"Current Ver\")"
   ]
  },
  {
   "cell_type": "code",
   "execution_count": 14,
   "id": "cff39ec3-9138-4687-b601-9c2aac136632",
   "metadata": {},
   "outputs": [
    {
     "name": "stdout",
     "output_type": "stream",
     "text": [
      "+--------------------+--------------+------+-------+--------+----+-----+--------------------+\n",
      "|                 App|      Category|Rating|Reviews|Installs|Type|Price|              Genres|\n",
      "+--------------------+--------------+------+-------+--------+----+-----+--------------------+\n",
      "|Photo Editor & Ca...|ART_AND_DESIGN|   4.1|    159| 10,000+|Free|    0|        Art & Design|\n",
      "| Coloring book moana|ART_AND_DESIGN|   3.9|    967|500,000+|Free|    0|Art & Design;Pret...|\n",
      "+--------------------+--------------+------+-------+--------+----+-----+--------------------+\n",
      "only showing top 2 rows\n",
      "\n"
     ]
    }
   ],
   "source": [
    "df.show(2)"
   ]
  },
  {
   "cell_type": "code",
   "execution_count": 15,
   "id": "429009cb-90d3-42d8-b9cc-6c0749b60926",
   "metadata": {},
   "outputs": [
    {
     "name": "stdout",
     "output_type": "stream",
     "text": [
      "root\n",
      " |-- App: string (nullable = true)\n",
      " |-- Category: string (nullable = true)\n",
      " |-- Rating: string (nullable = true)\n",
      " |-- Reviews: string (nullable = true)\n",
      " |-- Installs: string (nullable = true)\n",
      " |-- Type: string (nullable = true)\n",
      " |-- Price: string (nullable = true)\n",
      " |-- Genres: string (nullable = true)\n",
      "\n"
     ]
    }
   ],
   "source": [
    "df.printSchema()"
   ]
  },
  {
   "cell_type": "markdown",
   "id": "08a9f01a-110d-42f7-87dc-18d404897336",
   "metadata": {},
   "source": [
    "Change the type of columns, remove '+' from Installs column etc"
   ]
  },
  {
   "cell_type": "code",
   "execution_count": 16,
   "id": "7f662317-735e-4386-ae25-bfbea4109bd6",
   "metadata": {},
   "outputs": [],
   "source": [
    "from pyspark.sql.functions import regexp_replace,col\n",
    "df=df.withColumn(\"Reviews\",col(\"Reviews\").cast(IntegerType()))\\\n",
    ".withColumn(\"Installs\",regexp_replace(col(\"Installs\"),\"[^0-9]\",\"\"))\\\n",
    ".withColumn(\"Installs\",col(\"Installs\").cast(IntegerType()))\\\n",
    ".withColumn(\"Price\",regexp_replace(col(\"Price\"),\"[$]\",\"\"))\\\n",
    ".withColumn(\"Price\",col(\"Price\").cast(IntegerType()))"
   ]
  },
  {
   "cell_type": "code",
   "execution_count": 17,
   "id": "3edf8425-4987-43c2-9d1f-02b339b29e45",
   "metadata": {},
   "outputs": [
    {
     "name": "stdout",
     "output_type": "stream",
     "text": [
      "+--------------------+--------------+------+-------+--------+----+-----+--------------------+\n",
      "|                 App|      Category|Rating|Reviews|Installs|Type|Price|              Genres|\n",
      "+--------------------+--------------+------+-------+--------+----+-----+--------------------+\n",
      "|Photo Editor & Ca...|ART_AND_DESIGN|   4.1|    159|   10000|Free|    0|        Art & Design|\n",
      "| Coloring book moana|ART_AND_DESIGN|   3.9|    967|  500000|Free|    0|Art & Design;Pret...|\n",
      "+--------------------+--------------+------+-------+--------+----+-----+--------------------+\n",
      "only showing top 2 rows\n",
      "\n"
     ]
    }
   ],
   "source": [
    "df.show(2)"
   ]
  },
  {
   "cell_type": "code",
   "execution_count": 66,
   "id": "32b91bc7-6b08-48ed-ae89-e5b5f79f72c3",
   "metadata": {},
   "outputs": [],
   "source": [
    "from pyspark.sql.types import FloatType\n",
    "from pyspark.sql.functions import col\n",
    "\n",
    "# Convert column to FloatType (or DoubleType)\n",
    "df = df.withColumn(\"Rating\", col(\"Rating\").cast(FloatType()))"
   ]
  },
  {
   "cell_type": "code",
   "execution_count": 49,
   "id": "b56602f3-291a-4350-a573-f4046c26ab76",
   "metadata": {},
   "outputs": [],
   "source": [
    "# Replace \"NaN\" (string) with None (null values)\n",
    "from pyspark.sql.functions import isnan\n",
    "df = df.withColumn(\"Rating\", when(isnan(col(\"Rating\")),0).otherwise(col(\"Rating\")))\n",
    "#|df = df.fillna({\"Rating\": 0})"
   ]
  },
  {
   "cell_type": "code",
   "execution_count": null,
   "id": "86b78166-25a1-491d-a7b0-3f8de99f1e6b",
   "metadata": {},
   "outputs": [],
   "source": [
    "df = df.withColumn(\"Rating\", when(col(\"Rating\") == \"NaN\", np.nan).otherwise(col(\"Rating\")))\n",
    "df = df.fillna({\"Rating\": 0})  # Replace null values in \"Rating\" column with 0"
   ]
  },
  {
   "cell_type": "code",
   "execution_count": null,
   "id": "7ad9ab6f-b115-4b5e-99e1-a46b5b2e1fdf",
   "metadata": {},
   "outputs": [],
   "source": [
    "df.createOrReplaceTempView(\"apps\")"
   ]
  },
  {
   "cell_type": "code",
   "execution_count": 67,
   "id": "9afb4b05-a09f-45f5-b53f-d25995a8a6fe",
   "metadata": {},
   "outputs": [
    {
     "name": "stdout",
     "output_type": "stream",
     "text": [
      "root\n",
      " |-- App: string (nullable = true)\n",
      " |-- Category: string (nullable = true)\n",
      " |-- Rating: float (nullable = true)\n",
      " |-- Reviews: integer (nullable = true)\n",
      " |-- Installs: integer (nullable = true)\n",
      " |-- Type: string (nullable = true)\n",
      " |-- Price: integer (nullable = true)\n",
      " |-- Genres: string (nullable = true)\n",
      "\n"
     ]
    }
   ],
   "source": [
    "df.printSchema()"
   ]
  },
  {
   "cell_type": "markdown",
   "id": "5d019f12-ef09-480e-b176-6758ca0a3466",
   "metadata": {},
   "source": [
    "# Create a Temperory View of the table"
   ]
  },
  {
   "cell_type": "code",
   "execution_count": 19,
   "id": "bd4a135a-956a-47cb-9582-277346e9cef0",
   "metadata": {},
   "outputs": [],
   "source": [
    "df.createOrReplaceTempView(\"apps\")"
   ]
  },
  {
   "cell_type": "markdown",
   "id": "7a249ffa-a3d7-454c-902b-c0c74a81012f",
   "metadata": {},
   "source": [
    "# Write Queries"
   ]
  },
  {
   "cell_type": "code",
   "execution_count": 22,
   "id": "59dfd77c-05ad-4755-bbee-b0be4e0fd018",
   "metadata": {},
   "outputs": [
    {
     "name": "stdout",
     "output_type": "stream",
     "text": [
      "+--------------------+--------------+------+-------+--------+----+-----+--------------------+\n",
      "|                 App|      Category|Rating|Reviews|Installs|Type|Price|              Genres|\n",
      "+--------------------+--------------+------+-------+--------+----+-----+--------------------+\n",
      "|Photo Editor & Ca...|ART_AND_DESIGN|   4.1|    159|   10000|Free|    0|        Art & Design|\n",
      "| Coloring book moana|ART_AND_DESIGN|   3.9|    967|  500000|Free|    0|Art & Design;Pret...|\n",
      "|U Launcher Lite –...|ART_AND_DESIGN|   4.7|  87510| 5000000|Free|    0|        Art & Design|\n",
      "|Sketch - Draw & P...|ART_AND_DESIGN|   4.5| 215644|50000000|Free|    0|        Art & Design|\n",
      "|Pixel Draw - Numb...|ART_AND_DESIGN|   4.3|    967|  100000|Free|    0|Art & Design;Crea...|\n",
      "|Paper flowers ins...|ART_AND_DESIGN|   4.4|    167|   50000|Free|    0|        Art & Design|\n",
      "|Smoke Effect Phot...|ART_AND_DESIGN|   3.8|    178|   50000|Free|    0|        Art & Design|\n",
      "|    Infinite Painter|ART_AND_DESIGN|   4.1|  36815| 1000000|Free|    0|        Art & Design|\n",
      "|Garden Coloring Book|ART_AND_DESIGN|   4.4|  13791| 1000000|Free|    0|        Art & Design|\n",
      "|Kids Paint Free -...|ART_AND_DESIGN|   4.7|    121|   10000|Free|    0|Art & Design;Crea...|\n",
      "|Text on Photo - F...|ART_AND_DESIGN|   4.4|  13880| 1000000|Free|    0|        Art & Design|\n",
      "|Name Art Photo Ed...|ART_AND_DESIGN|   4.4|   8788| 1000000|Free|    0|        Art & Design|\n",
      "|Tattoo Name On My...|ART_AND_DESIGN|   4.2|  44829|10000000|Free|    0|        Art & Design|\n",
      "|Mandala Coloring ...|ART_AND_DESIGN|   4.6|   4326|  100000|Free|    0|        Art & Design|\n",
      "|3D Color Pixel by...|ART_AND_DESIGN|   4.4|   1518|  100000|Free|    0|        Art & Design|\n",
      "|Learn To Draw Kaw...|ART_AND_DESIGN|   3.2|     55|    5000|Free|    0|        Art & Design|\n",
      "|Photo Designer - ...|ART_AND_DESIGN|   4.7|   3632|  500000|Free|    0|        Art & Design|\n",
      "|350 Diy Room Deco...|ART_AND_DESIGN|   4.5|     27|   10000|Free|    0|        Art & Design|\n",
      "|FlipaClip - Carto...|ART_AND_DESIGN|   4.3| 194216| 5000000|Free|    0|        Art & Design|\n",
      "|        ibis Paint X|ART_AND_DESIGN|   4.6| 224399|10000000|Free|    0|        Art & Design|\n",
      "+--------------------+--------------+------+-------+--------+----+-----+--------------------+\n",
      "only showing top 20 rows\n",
      "\n"
     ]
    }
   ],
   "source": [
    "spark.sql(\"SELECT * from apps\").show()"
   ]
  },
  {
   "cell_type": "markdown",
   "id": "dd690171-22aa-4005-8e40-e7352364f6fc",
   "metadata": {},
   "source": [
    "# 1. Find out Top 10 reviews given to the apps"
   ]
  },
  {
   "cell_type": "code",
   "execution_count": 85,
   "id": "cce4b9c8-0c6e-4a5a-91b5-a220b4034aca",
   "metadata": {},
   "outputs": [
    {
     "name": "stdout",
     "output_type": "stream",
     "text": [
      "+--------------------+------------+\n",
      "|                 App|sum(Reviews)|\n",
      "+--------------------+------------+\n",
      "|           Instagram|   266241989|\n",
      "|  WhatsApp Messenger|   207348304|\n",
      "|      Clash of Clans|   179558781|\n",
      "|Messenger – Text ...|   169932272|\n",
      "|      Subway Surfers|   166331958|\n",
      "|    Candy Crush Saga|   156993136|\n",
      "|            Facebook|   156286514|\n",
      "|         8 Ball Pool|    99386198|\n",
      "|        Clash Royale|    92530298|\n",
      "|            Snapchat|    68045010|\n",
      "+--------------------+------------+\n",
      "only showing top 10 rows\n",
      "\n"
     ]
    }
   ],
   "source": [
    "spark.sql(\"SELECT App,sum(Reviews) from apps group by 1 order by 2 desc\").show(10)"
   ]
  },
  {
   "cell_type": "markdown",
   "id": "26ef73fa-ed5f-4afd-87b4-32aa606cb22d",
   "metadata": {},
   "source": [
    "# 2. Top 10 installs apps and distribution of type(free/Paid)"
   ]
  },
  {
   "cell_type": "code",
   "execution_count": 26,
   "id": "2b42223e-f9b0-4a9c-a0fa-2224da306114",
   "metadata": {},
   "outputs": [
    {
     "name": "stdout",
     "output_type": "stream",
     "text": [
      "+--------------------+-------------+\n",
      "|                 App|sum(Installs)|\n",
      "+--------------------+-------------+\n",
      "|      Subway Surfers|   6000000000|\n",
      "|           Instagram|   4000000000|\n",
      "|        Google Drive|   4000000000|\n",
      "|            Hangouts|   4000000000|\n",
      "|         Google News|   4000000000|\n",
      "|       Google Photos|   4000000000|\n",
      "|    Candy Crush Saga|   3500000000|\n",
      "|Messenger – Text ...|   3000000000|\n",
      "|Google Chrome: Fa...|   3000000000|\n",
      "|Maps - Navigate &...|   3000000000|\n",
      "+--------------------+-------------+\n",
      "only showing top 10 rows\n",
      "\n"
     ]
    }
   ],
   "source": [
    "spark.sql(\"SELECT App,sum(Installs) from apps group by 1 order by 2 desc\").show(10)"
   ]
  },
  {
   "cell_type": "code",
   "execution_count": 29,
   "id": "7842c500-c8cb-4970-8fe8-70cb43b56378",
   "metadata": {},
   "outputs": [
    {
     "name": "stdout",
     "output_type": "stream",
     "text": [
      "+------------------+----+-------------+\n",
      "|               App|Type|sum(Installs)|\n",
      "+------------------+----+-------------+\n",
      "|    Subway Surfers|Free|   6000000000|\n",
      "|         Instagram|Free|   4000000000|\n",
      "|      Google Drive|Free|   4000000000|\n",
      "|          Hangouts|Free|   4000000000|\n",
      "|     Google Photos|Free|   4000000000|\n",
      "|       Google News|Free|   4000000000|\n",
      "|  Candy Crush Saga|Free|   3500000000|\n",
      "|WhatsApp Messenger|Free|   3000000000|\n",
      "|             Gmail|Free|   3000000000|\n",
      "|      Temple Run 2|Free|   3000000000|\n",
      "+------------------+----+-------------+\n",
      "only showing top 10 rows\n",
      "\n"
     ]
    }
   ],
   "source": [
    "spark.sql(\"SELECT App,Type,sum(Installs) from apps group by 1,2 order by 3 desc\").show(10)"
   ]
  },
  {
   "cell_type": "markdown",
   "id": "08a7d91a-4387-4e1b-8f51-7109c77bd1b8",
   "metadata": {},
   "source": [
    "# 3. Categorywise distribution of installed apps"
   ]
  },
  {
   "cell_type": "code",
   "execution_count": 28,
   "id": "7ae33e3f-448a-4e4c-ab22-ea3479bd6e41",
   "metadata": {},
   "outputs": [
    {
     "name": "stdout",
     "output_type": "stream",
     "text": [
      "+-------------------+-------------+\n",
      "|Category           |sum(Installs)|\n",
      "+-------------------+-------------+\n",
      "|GAME               |35086024415  |\n",
      "|COMMUNICATION      |32647276251  |\n",
      "|PRODUCTIVITY       |14176091369  |\n",
      "|SOCIAL             |14069867902  |\n",
      "|TOOLS              |11452771915  |\n",
      "|FAMILY             |10258263505  |\n",
      "|PHOTOGRAPHY        |10088247655  |\n",
      "|NEWS_AND_MAGAZINES |7496317760   |\n",
      "|TRAVEL_AND_LOCAL   |6868887146   |\n",
      "|VIDEO_PLAYERS      |6222002720   |\n",
      "|SHOPPING           |3247848785   |\n",
      "|ENTERTAINMENT      |2869160000   |\n",
      "|PERSONALIZATION    |2325494782   |\n",
      "|BOOKS_AND_REFERENCE|1921469576   |\n",
      "|SPORTS             |1751174498   |\n",
      "|HEALTH_AND_FITNESS |1582072512   |\n",
      "|BUSINESS           |1001914865   |\n",
      "|FINANCE            |876648734    |\n",
      "|EDUCATION          |871452000    |\n",
      "|MAPS_AND_NAVIGATION|719281890    |\n",
      "|LIFESTYLE          |537643539    |\n",
      "|WEATHER            |426100520    |\n",
      "|FOOD_AND_DRINK     |273898751    |\n",
      "|DATING             |264310807    |\n",
      "|HOUSE_AND_HOME     |168712461    |\n",
      "|ART_AND_DESIGN     |124338100    |\n",
      "|LIBRARIES_AND_DEMO |62995910     |\n",
      "|COMICS             |56086150     |\n",
      "|MEDICAL            |53257437     |\n",
      "|AUTO_AND_VEHICLES  |53130211     |\n",
      "|PARENTING          |31521110     |\n",
      "|BEAUTY             |27197050     |\n",
      "|EVENTS             |15973161     |\n",
      "| traffic jams      |44           |\n",
      "|Face               |42           |\n",
      "|1.9                |NULL         |\n",
      "+-------------------+-------------+\n",
      "\n"
     ]
    }
   ],
   "source": [
    "spark.sql(\"SELECT Category,sum(Installs) from apps group by 1 order by 2 desc\").show(truncate=False, n=df.count())"
   ]
  },
  {
   "cell_type": "markdown",
   "id": "474c4fdd-328d-4c5c-9dca-ac869a7e7ad6",
   "metadata": {},
   "source": [
    "# 4. Top paid apps"
   ]
  },
  {
   "cell_type": "code",
   "execution_count": 30,
   "id": "2f975262-aff4-4b59-ac2c-7e6de5c42bf4",
   "metadata": {},
   "outputs": [
    {
     "name": "stdout",
     "output_type": "stream",
     "text": [
      "+--------------------+----------+\n",
      "|                 App|sum(Price)|\n",
      "+--------------------+----------+\n",
      "|I'm Rich - Trump ...|       400|\n",
      "|   I Am Rich Premium|       399|\n",
      "|  I AM RICH PRO PLUS|       399|\n",
      "|I'm Rich/Eu sou R...|       399|\n",
      "|      I am Rich Plus|       399|\n",
      "|most expensive ap...|       399|\n",
      "|       I Am Rich Pro|       399|\n",
      "|  I am rich(premium)|       399|\n",
      "|           I am Rich|       399|\n",
      "|          I am Rich!|       399|\n",
      "|         💎 I'm rich|       399|\n",
      "|I am rich (Most e...|       399|\n",
      "|           I am rich|       399|\n",
      "|         Eu Sou Rico|       394|\n",
      "|           I Am Rich|       389|\n",
      "| I am extremely Rich|       379|\n",
      "|       I am rich VIP|       299|\n",
      "|        EP Cook Book|       200|\n",
      "|Vargo Anesthesia ...|       158|\n",
      "|       cronometra-br|       154|\n",
      "+--------------------+----------+\n",
      "only showing top 20 rows\n",
      "\n"
     ]
    }
   ],
   "source": [
    "spark.sql(\"SELECT App,sum(Price) from apps where Type='Paid' group by 1 order by 2 desc\").show()"
   ]
  },
  {
   "cell_type": "markdown",
   "id": "bf90fe6f-036f-4d75-9020-c15572023fa4",
   "metadata": {},
   "source": [
    "# 5. Top paid rating apps"
   ]
  },
  {
   "cell_type": "code",
   "execution_count": 78,
   "id": "9f7dd7c6-c143-44e3-bdb0-dd90a55679e7",
   "metadata": {},
   "outputs": [
    {
     "name": "stdout",
     "output_type": "stream",
     "text": [
      "+--------------------+-----------------+------+-------+--------+----+-----+--------------------+\n",
      "|                 App|         Category|Rating|Reviews|Installs|Type|Price|              Genres|\n",
      "+--------------------+-----------------+------+-------+--------+----+-----+--------------------+\n",
      "|Photo Editor & Ca...|   ART_AND_DESIGN|   4.1|    159|   10000|Free|    0|        Art & Design|\n",
      "| Coloring book moana|   ART_AND_DESIGN|   3.9|    967|  500000|Free|    0|Art & Design;Pret...|\n",
      "|U Launcher Lite –...|   ART_AND_DESIGN|   4.7|  87510| 5000000|Free|    0|        Art & Design|\n",
      "|Sketch - Draw & P...|   ART_AND_DESIGN|   4.5| 215644|50000000|Free|    0|        Art & Design|\n",
      "|Pixel Draw - Numb...|   ART_AND_DESIGN|   4.3|    967|  100000|Free|    0|Art & Design;Crea...|\n",
      "|Paper flowers ins...|   ART_AND_DESIGN|   4.4|    167|   50000|Free|    0|        Art & Design|\n",
      "|Smoke Effect Phot...|   ART_AND_DESIGN|   3.8|    178|   50000|Free|    0|        Art & Design|\n",
      "|    Infinite Painter|   ART_AND_DESIGN|   4.1|  36815| 1000000|Free|    0|        Art & Design|\n",
      "|Garden Coloring Book|   ART_AND_DESIGN|   4.4|  13791| 1000000|Free|    0|        Art & Design|\n",
      "|Kids Paint Free -...|   ART_AND_DESIGN|   4.7|    121|   10000|Free|    0|Art & Design;Crea...|\n",
      "|Text on Photo - F...|   ART_AND_DESIGN|   4.4|  13880| 1000000|Free|    0|        Art & Design|\n",
      "|Name Art Photo Ed...|   ART_AND_DESIGN|   4.4|   8788| 1000000|Free|    0|        Art & Design|\n",
      "|Tattoo Name On My...|   ART_AND_DESIGN|   4.2|  44829|10000000|Free|    0|        Art & Design|\n",
      "|Mandala Coloring ...|   ART_AND_DESIGN|   4.6|   4326|  100000|Free|    0|        Art & Design|\n",
      "|3D Color Pixel by...|   ART_AND_DESIGN|   4.4|   1518|  100000|Free|    0|        Art & Design|\n",
      "|Learn To Draw Kaw...|   ART_AND_DESIGN|   3.2|     55|    5000|Free|    0|        Art & Design|\n",
      "|Photo Designer - ...|   ART_AND_DESIGN|   4.7|   3632|  500000|Free|    0|        Art & Design|\n",
      "|350 Diy Room Deco...|   ART_AND_DESIGN|   4.5|     27|   10000|Free|    0|        Art & Design|\n",
      "|FlipaClip - Carto...|   ART_AND_DESIGN|   4.3| 194216| 5000000|Free|    0|        Art & Design|\n",
      "|        ibis Paint X|   ART_AND_DESIGN|   4.6| 224399|10000000|Free|    0|        Art & Design|\n",
      "|Logo Maker - Smal...|   ART_AND_DESIGN|   4.0|    450|  100000|Free|    0|        Art & Design|\n",
      "|Boys Photo Editor...|   ART_AND_DESIGN|   4.1|    654|  100000|Free|    0|        Art & Design|\n",
      "|Superheroes Wallp...|   ART_AND_DESIGN|   4.7|   7699|  500000|Free|    0|        Art & Design|\n",
      "|Mcqueen Coloring ...|   ART_AND_DESIGN|   NaN|     61|  100000|Free|    0|Art & Design;Acti...|\n",
      "|HD Mickey Minnie ...|   ART_AND_DESIGN|   4.7|    118|   50000|Free|    0|        Art & Design|\n",
      "|Harley Quinn wall...|   ART_AND_DESIGN|   4.8|    192|   10000|Free|    0|        Art & Design|\n",
      "|Colorfit - Drawin...|   ART_AND_DESIGN|   4.7|  20260|  500000|Free|    0|Art & Design;Crea...|\n",
      "|Animated Photo Ed...|   ART_AND_DESIGN|   4.1|    203|  100000|Free|    0|        Art & Design|\n",
      "|Pencil Sketch Dra...|   ART_AND_DESIGN|   3.9|    136|   10000|Free|    0|        Art & Design|\n",
      "|Easy Realistic Dr...|   ART_AND_DESIGN|   4.1|    223|  100000|Free|    0|        Art & Design|\n",
      "|Pink Silver Bow K...|   ART_AND_DESIGN|   4.2|   1120|  100000|Free|    0|        Art & Design|\n",
      "|   Art Drawing Ideas|   ART_AND_DESIGN|   4.1|    227|   50000|Free|    0|        Art & Design|\n",
      "|Anime Manga Color...|   ART_AND_DESIGN|   4.5|   5035|  100000|Free|    0|        Art & Design|\n",
      "|  Easy Origami Ideas|   ART_AND_DESIGN|   4.2|   1015|  100000|Free|    0|        Art & Design|\n",
      "|     I Creative Idea|   ART_AND_DESIGN|   4.7|    353|   10000|Free|    0|        Art & Design|\n",
      "|How to draw Ladyb...|   ART_AND_DESIGN|   3.8|    564|  100000|Free|    0|        Art & Design|\n",
      "|UNICORN - Color B...|   ART_AND_DESIGN|   4.7|   8145|  500000|Free|    0|Art & Design;Crea...|\n",
      "|  Floor Plan Creator|   ART_AND_DESIGN|   4.1|  36639| 5000000|Free|    0|        Art & Design|\n",
      "|PIP Camera - PIP ...|   ART_AND_DESIGN|   4.7|    158|   10000|Free|    0|        Art & Design|\n",
      "|How To Color Disn...|   ART_AND_DESIGN|   4.0|    591|  500000|Free|    0|        Art & Design|\n",
      "|Drawing Clothes F...|   ART_AND_DESIGN|   4.2|    117|   10000|Free|    0|        Art & Design|\n",
      "|Sad Poetry Photo ...|   ART_AND_DESIGN|   4.5|    176|  100000|Free|    0|        Art & Design|\n",
      "|Textgram - write ...|   ART_AND_DESIGN|   4.4| 295221|10000000|Free|    0|        Art & Design|\n",
      "|       Paint Splash!|   ART_AND_DESIGN|   3.8|   2206|  100000|Free|    0|Art & Design;Crea...|\n",
      "|Popsicle Sticks a...|   ART_AND_DESIGN|   4.2|     26|   10000|Free|    0|        Art & Design|\n",
      "|Canva: Poster, ba...|   ART_AND_DESIGN|   4.7| 174531|10000000|Free|    0|        Art & Design|\n",
      "|Install images wi...|   ART_AND_DESIGN|   4.6|   1070|  100000|Free|    0|        Art & Design|\n",
      "|Little Teddy Bear...|   ART_AND_DESIGN|   4.2|     85|  100000|Free|    0|        Art & Design|\n",
      "|    How To Draw Food|   ART_AND_DESIGN|   4.3|    845|  100000|Free|    0|        Art & Design|\n",
      "|Monster Truck Stu...|AUTO_AND_VEHICLES|   4.2|    367|  100000|Free|    0|     Auto & Vehicles|\n",
      "|Real Tractor Farming|AUTO_AND_VEHICLES|   4.0|   1598| 1000000|Free|    0|     Auto & Vehicles|\n",
      "|Ultimate F1 Racin...|AUTO_AND_VEHICLES|   3.8|    284|  100000|Free|    0|     Auto & Vehicles|\n",
      "|Used Cars and Tru...|AUTO_AND_VEHICLES|   4.6|  17057| 1000000|Free|    0|     Auto & Vehicles|\n",
      "|American Muscle C...|AUTO_AND_VEHICLES|   3.9|    129|  100000|Free|    0|     Auto & Vehicles|\n",
      "|Offroad Oil Tanke...|AUTO_AND_VEHICLES|   4.3|    542|  100000|Free|    0|     Auto & Vehicles|\n",
      "|Tickets SDA 2018 ...|AUTO_AND_VEHICLES|   4.9|  10479|  100000|Free|    0|     Auto & Vehicles|\n",
      "|Gas Prices (Germa...|AUTO_AND_VEHICLES|   4.4|    805|   50000|Free|    0|     Auto & Vehicles|\n",
      "|Extreme Rally Cha...|AUTO_AND_VEHICLES|   4.2|    129|  100000|Free|    0|     Auto & Vehicles|\n",
      "|   Restart Navigator|AUTO_AND_VEHICLES|   4.0|   1403|  100000|Free|    0|     Auto & Vehicles|\n",
      "|REG - Check the r...|AUTO_AND_VEHICLES|   3.9|   3971|  100000|Free|    0|     Auto & Vehicles|\n",
      "|        CityBus Lviv|AUTO_AND_VEHICLES|   4.6|    534|   10000|Free|    0|     Auto & Vehicles|\n",
      "|CDL Practice Test...|AUTO_AND_VEHICLES|   4.9|   7774|  100000|Free|    0|     Auto & Vehicles|\n",
      "|ezETC (ETC balanc...|AUTO_AND_VEHICLES|   4.3|  38846| 1000000|Free|    0|     Auto & Vehicles|\n",
      "|Free VIN Report f...|AUTO_AND_VEHICLES|   4.6|   2431|  100000|Free|    0|     Auto & Vehicles|\n",
      "|DMV Permit Practi...|AUTO_AND_VEHICLES|   4.9|   6090|  100000|Free|    0|     Auto & Vehicles|\n",
      "|   Check Vehicle Tax|AUTO_AND_VEHICLES|   3.9|    295|   10000|Free|    0|     Auto & Vehicles|\n",
      "|    Used Cars Mexico|AUTO_AND_VEHICLES|   4.0|    190|   50000|Free|    0|     Auto & Vehicles|\n",
      "|  Ulysse Speedometer|AUTO_AND_VEHICLES|   4.3|  40211| 5000000|Free|    0|     Auto & Vehicles|\n",
      "|              REPUVE|AUTO_AND_VEHICLES|   3.9|    356|  100000|Free|    0|     Auto & Vehicles|\n",
      "|Used cars for sal...|AUTO_AND_VEHICLES|   4.2|  52530| 5000000|Free|    0|     Auto & Vehicles|\n",
      "|Fines of the Stat...|AUTO_AND_VEHICLES|   4.8| 116986| 5000000|Free|    0|     Auto & Vehicles|\n",
      "|SK Enca Direct Ma...|AUTO_AND_VEHICLES|   3.6|   1379|  500000|Free|    0|     Auto & Vehicles|\n",
      "|Android Auto - Ma...|AUTO_AND_VEHICLES|   4.2| 271920|10000000|Free|    0|     Auto & Vehicles|\n",
      "|              PDD-UA|AUTO_AND_VEHICLES|   4.8|    736|  100000|Free|    0|     Auto & Vehicles|\n",
      "|Tickets SDA 2019 ...|AUTO_AND_VEHICLES|   4.8|   7021|  500000|Free|    0|     Auto & Vehicles|\n",
      "|Super Cars Wallpa...|AUTO_AND_VEHICLES|   4.6|    197|   50000|Free|    0|     Auto & Vehicles|\n",
      "|Police Lights, Si...|AUTO_AND_VEHICLES|   4.5|    737|  100000|Free|    0|     Auto & Vehicles|\n",
      "|Police Detector (...|AUTO_AND_VEHICLES|   4.3|   3574| 1000000|Free|    0|     Auto & Vehicles|\n",
      "| Best Car Wallpapers|AUTO_AND_VEHICLES|   4.5|    994|  100000|Free|    0|     Auto & Vehicles|\n",
      "|Tickets + PDA 201...|AUTO_AND_VEHICLES|   4.9| 197136| 1000000|Free|    0|     Auto & Vehicles|\n",
      "|Pick Your Part Ga...|AUTO_AND_VEHICLES|   3.9|    142|   50000|Free|    0|     Auto & Vehicles|\n",
      "|PakWheels: Buy & ...|AUTO_AND_VEHICLES|   4.4|  15168| 1000000|Free|    0|     Auto & Vehicles|\n",
      "| Supervision service|AUTO_AND_VEHICLES|   4.0|   2155|  500000|Free|    0|     Auto & Vehicles|\n",
      "|Speed Camera Dete...|AUTO_AND_VEHICLES|   4.3|    138|  100000|Free|    0|     Auto & Vehicles|\n",
      "|Used car search G...|AUTO_AND_VEHICLES|   3.7|   5414| 1000000|Free|    0|     Auto & Vehicles|\n",
      "|CarMax – Cars for...|AUTO_AND_VEHICLES|   4.4|  21777| 1000000|Free|    0|     Auto & Vehicles|\n",
      "|     BEST CAR SOUNDS|AUTO_AND_VEHICLES|   4.3|    348|  100000|Free|    0|     Auto & Vehicles|\n",
      "|RST - Sale of car...|AUTO_AND_VEHICLES|   3.2|    250|  100000|Free|    0|     Auto & Vehicles|\n",
      "|AutoScout24 Switz...|AUTO_AND_VEHICLES|   4.6|  13372| 1000000|Free|    0|     Auto & Vehicles|\n",
      "|Zona Azul Digital...|AUTO_AND_VEHICLES|   4.6|   7880|  100000|Free|    0|     Auto & Vehicles|\n",
      "|            SMS Park|AUTO_AND_VEHICLES|   4.5|   3617|  100000|Free|    0|     Auto & Vehicles|\n",
      "|             SKencar|AUTO_AND_VEHICLES|   3.7|   4806| 1000000|Free|    0|     Auto & Vehicles|\n",
      "|Fuelio: Gas log &...|AUTO_AND_VEHICLES|   4.6|  65786| 1000000|Free|    0|     Auto & Vehicles|\n",
      "|          auto fines|AUTO_AND_VEHICLES|   4.6|  31433| 1000000|Free|    0|     Auto & Vehicles|\n",
      "|Used car is the f...|AUTO_AND_VEHICLES|   4.6|   5097| 1000000|Free|    0|     Auto & Vehicles|\n",
      "|All of the parkin...|AUTO_AND_VEHICLES|   4.0|   1754|  500000|Free|    0|     Auto & Vehicles|\n",
      "|Inquiry Fines and...|AUTO_AND_VEHICLES|   4.4|   2680|  500000|Free|    0|     Auto & Vehicles|\n",
      "|         Gas Station|AUTO_AND_VEHICLES|   4.0|   1288|  100000|Free|    0|     Auto & Vehicles|\n",
      "|Hush - Beauty for...|           BEAUTY|   4.7|  18900|  500000|Free|    0|              Beauty|\n",
      "|ipsy: Makeup, Bea...|           BEAUTY|   4.9|  49790| 1000000|Free|    0|              Beauty|\n",
      "+--------------------+-----------------+------+-------+--------+----+-----+--------------------+\n",
      "only showing top 100 rows\n",
      "\n"
     ]
    }
   ],
   "source": [
    "spark.sql(\"SELECT * from apps\").show(100)"
   ]
  },
  {
   "cell_type": "code",
   "execution_count": null,
   "id": "0e1fdd75-84a5-47b4-8ab1-621470f90416",
   "metadata": {},
   "outputs": [],
   "source": []
  }
 ],
 "metadata": {
  "kernelspec": {
   "display_name": "Python 3 (ipykernel)",
   "language": "python",
   "name": "python3"
  },
  "language_info": {
   "codemirror_mode": {
    "name": "ipython",
    "version": 3
   },
   "file_extension": ".py",
   "mimetype": "text/x-python",
   "name": "python",
   "nbconvert_exporter": "python",
   "pygments_lexer": "ipython3",
   "version": "3.10.0"
  }
 },
 "nbformat": 4,
 "nbformat_minor": 5
}
